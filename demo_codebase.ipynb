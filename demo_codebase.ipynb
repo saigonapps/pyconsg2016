{
 "cells": [
  {
   "cell_type": "markdown",
   "metadata": {},
   "source": [
    "# DEMO in PyconSG 2016\n",
    "\n",
    "Laam loves music. He likes Adele, The Beatles and Paganni. Let's explore his music world"
   ]
  },
  {
   "cell_type": "markdown",
   "metadata": {},
   "source": [
    "## Preparation"
   ]
  },
  {
   "cell_type": "code",
   "execution_count": 19,
   "metadata": {
    "collapsed": true
   },
   "outputs": [],
   "source": [
    "import cPickle as pickle\n",
    "\n",
    "songs = pickle.load(open(\"/Users/laam/projects/guplay/meta/songs_282K_updated_29feb.p\", 'rb'))"
   ]
  },
  {
   "cell_type": "code",
   "execution_count": 20,
   "metadata": {
    "collapsed": false
   },
   "outputs": [
    {
     "name": "stdout",
     "output_type": "stream",
     "text": [
      "282981\n",
      "{'sartist': u'C\\u1ea9m Ly', 'scover': u'http://st.cdn.nhacso.net/images/album/2011/08/31/1178050012/13147847315_4077_120x120.jpg', 'sname': u'Ng\\xe0n N\\u0103m V\\u1eabn \\u0110\\u1ee3i', 'slink': u'http://nhacso.net/nghe-nhac/ngan-nam-van-doi.WFtUU0Nd.html', 'sid': '635002'}\n"
     ]
    }
   ],
   "source": [
    "print len(songs)\n",
    "print songs[12]"
   ]
  },
  {
   "cell_type": "code",
   "execution_count": 21,
   "metadata": {
    "collapsed": true
   },
   "outputs": [],
   "source": [
    "def get_song_info(sid):\n",
    "    for s in songs:\n",
    "        if s['sid'] == sid:\n",
    "            return s\n",
    "    return None\n",
    "\n",
    "song2ix = {s['sid']: i for i, s in enumerate(songs)}"
   ]
  },
  {
   "cell_type": "code",
   "execution_count": 22,
   "metadata": {
    "collapsed": false
   },
   "outputs": [
    {
     "data": {
      "text/plain": [
       "{'sartist': u'The Beatles',\n",
       " 'scover': u'http://st.cdn.nhacso.net/images/album/2011/06/15/1178050012/13081092994_6719_120x120.jpg',\n",
       " 'sid': '452138',\n",
       " 'slink': u'http://nhacso.net/nghe-nhac/free-as-a-bird.Wl1TUkBX.html',\n",
       " 'sname': u'Free As a Bird'}"
      ]
     },
     "execution_count": 22,
     "metadata": {},
     "output_type": "execute_result"
    }
   ],
   "source": [
    "get_song_info('452138')"
   ]
  },
  {
   "cell_type": "markdown",
   "metadata": {},
   "source": [
    "## Magic transformer"
   ]
  },
  {
   "cell_type": "code",
   "execution_count": 23,
   "metadata": {
    "collapsed": false
   },
   "outputs": [
    {
     "name": "stdout",
     "output_type": "stream",
     "text": [
      "Doc2Vec(dbow+w,d100,n5,w8,mc2,s0.001,t4)\n"
     ]
    }
   ],
   "source": [
    "import numpy as np\n",
    "from gensim.models import Doc2Vec\n",
    "\n",
    "pv = Doc2Vec.load(\"/Users/laam/projects/guplay/models/guplay_dbow_5ns_100features_2mw_r72_c800k\")\n",
    "print pv"
   ]
  },
  {
   "cell_type": "markdown",
   "metadata": {},
   "source": [
    "## Lam loves The Beatles music"
   ]
  },
  {
   "cell_type": "code",
   "execution_count": 24,
   "metadata": {
    "collapsed": false
   },
   "outputs": [
    {
     "name": "stdout",
     "output_type": "stream",
     "text": [
      "The Beatles: Free as a bird --> IX:  121901\n",
      "Song meta  {'sartist': u'The Beatles', 'scover': u'http://st.cdn.nhacso.net/images/album/2011/06/15/1178050012/13081092994_6719_120x120.jpg', 'sname': u'Free As a Bird', 'slink': u'http://nhacso.net/nghe-nhac/free-as-a-bird.Wl1TUkBX.html', 'sid': '452138'}\n",
      "Song vec  [-0.11250623 -0.15591483 -0.14036672 -0.21781129 -0.42804015  0.66027981\n",
      " -0.93176329 -0.53166783 -0.27113673  0.05120657 -0.89181417  0.68065351\n",
      "  0.75027412  0.93332803 -0.49508557 -0.33182776  0.30329555  0.261792\n",
      " -0.03692063  0.15234563  0.50873911 -0.50230002 -0.38006914  0.35814646\n",
      "  0.67726219 -0.28963915  0.3310931   0.0362886  -0.27803072  0.46044725\n",
      " -0.2695027  -0.11704667  0.73084313  0.59103292  0.1752384   0.30406141\n",
      "  0.78836089  0.1748715  -0.53995275 -0.06316917 -0.8664363  -0.43318033\n",
      "  0.13123061 -0.13482347  0.20698616  0.31671765  0.39040503 -0.65552652\n",
      "  0.0142319   0.27015162 -0.79906315 -0.02278325  0.74994814  0.40496704\n",
      " -0.37841922  0.41732845  0.06332152  0.76402336  0.12133974 -0.67952907\n",
      "  0.23914297  0.31124812  0.10794447 -0.08680853 -0.88788372  0.97463357\n",
      " -0.66300666  0.37824798 -0.15673727 -0.32325706 -0.1198025  -0.44132602\n",
      "  0.66448975 -0.0388497   0.38178197  0.71613431  0.22068773 -0.11502897\n",
      " -0.31082338 -0.68668425 -0.48353547 -0.20807596  0.19957842 -0.45496398\n",
      " -0.8217392   0.10642949  0.14668907 -0.13207047  0.34198454 -0.29540813\n",
      " -0.14292839 -0.20790809 -0.24292015  0.00109527 -0.98524511  0.39047831\n",
      " -0.33773059 -0.24415632  0.72781241  0.52290416]\n"
     ]
    }
   ],
   "source": [
    "print \"The Beatles: Free as a bird --> IX: \", song2ix['452138']\n",
    "print \"Song meta \", songs[song2ix['452138']]\n",
    "print \"Song vec \", pv['452138'] "
   ]
  },
  {
   "cell_type": "markdown",
   "metadata": {},
   "source": [
    "## WTH? I hates the maths. Can we see something more beautiful? Let's do vec2image"
   ]
  },
  {
   "cell_type": "code",
   "execution_count": 25,
   "metadata": {
    "collapsed": true
   },
   "outputs": [],
   "source": [
    "import matplotlib.pyplot as plt\n",
    "import seaborn as sns\n",
    "\n",
    "sns.set(\"poster\")\n",
    "%matplotlib inline"
   ]
  },
  {
   "cell_type": "code",
   "execution_count": 26,
   "metadata": {
    "collapsed": false
   },
   "outputs": [
    {
     "data": {
      "image/png": "[encoded data removed]",
      "text/plain": [
       "<matplotlib.figure.Figure at 0x1306bc7d0>"
      ]
     },
     "metadata": {},
     "output_type": "display_data"
    }
   ],
   "source": [
    "songid = '452138'\n",
    "songavatar = pv[songid].reshape(10,10)\n",
    "songname = get_song_info(songid)['sname']\n",
    "fig = plt.figure(figsize=(6, 6))\n",
    "ax = fig.add_subplot(1, 1, 1, xticks=[], yticks=[])\n",
    "\n",
    "ax.imshow(songavatar, cmap=plt.cm.rainbow, interpolation='nearest');\n",
    "ax.text(0, 0, str(songname), bbox=dict(facecolor='red', alpha=0.5));"
   ]
  },
  {
   "cell_type": "markdown",
   "metadata": {},
   "source": [
    "## Some of Adele"
   ]
  },
  {
   "cell_type": "code",
   "execution_count": 27,
   "metadata": {
    "collapsed": false
   },
   "outputs": [
    {
     "data": {
      "image/png": "[encoded data removed]",
      "text/plain": [
       "<matplotlib.figure.Figure at 0x1306ba510>"
      ]
     },
     "metadata": {},
     "output_type": "display_data"
    }
   ],
   "source": [
    "songid = '361436'\n",
    "songavatar = pv[songid].reshape(10,10)\n",
    "songname = get_song_info(songid)['sname']\n",
    "fig = plt.figure(figsize=(6, 6))\n",
    "ax = fig.add_subplot(1, 1, 1, xticks=[], yticks=[])\n",
    "\n",
    "ax.imshow(songavatar, cmap=plt.cm.rainbow, interpolation='nearest');\n",
    "ax.text(0, 0, str(songname), bbox=dict(facecolor='red', alpha=0.5));"
   ]
  },
  {
   "cell_type": "markdown",
   "metadata": {},
   "source": [
    "## Some of Paganini"
   ]
  },
  {
   "cell_type": "code",
   "execution_count": 28,
   "metadata": {
    "collapsed": false
   },
   "outputs": [
    {
     "data": {
      "image/png": "[encoded data removed]",
      "text/plain": [
       "<matplotlib.figure.Figure at 0x13ec04e50>"
      ]
     },
     "metadata": {},
     "output_type": "display_data"
    }
   ],
   "source": [
    "songid = '1033877'\n",
    "songavatar = pv[songid].reshape(10,10)\n",
    "songname = get_song_info(songid)['sname']\n",
    "fig = plt.figure(figsize=(6, 6))\n",
    "ax = fig.add_subplot(1, 1, 1, xticks=[], yticks=[])\n",
    "\n",
    "ax.imshow(songavatar, cmap=plt.cm.rainbow, interpolation='nearest');\n",
    "ax.text(0, 0, str(songname), bbox=dict(facecolor='red', alpha=0.5));"
   ]
  },
  {
   "cell_type": "markdown",
   "metadata": {},
   "source": [
    "## What is Laam's music vector?"
   ]
  },
  {
   "cell_type": "code",
   "execution_count": 29,
   "metadata": {
    "collapsed": false
   },
   "outputs": [
    {
     "data": {
      "image/png": "[encoded data removed]",
      "text/plain": [
       "<matplotlib.figure.Figure at 0x13ccd82d0>"
      ]
     },
     "metadata": {},
     "output_type": "display_data"
    }
   ],
   "source": [
    "# naive way: sum what he likes, subtract the dislikes\n",
    "my_songs = ['452138', '361436', '1033877']\n",
    "people_songs = ['1029965']\n",
    "\n",
    "songavatars = [pv[songid] for songid in my_songs] + [-1. * pv[songid] for songid in people_songs ]\n",
    "my_avatar = np.sum(songavatars, axis=0)\n",
    "my_avatar = my_avatar.reshape((10,10))\n",
    "fig = plt.figure(figsize=(6, 6))\n",
    "ax = fig.add_subplot(1, 1, 1, xticks=[], yticks=[])\n",
    "\n",
    "ax.imshow(my_avatar, cmap=plt.cm.rainbow, interpolation='nearest');\n",
    "ax.text(0, 0, str(\"Laam music avatar\"), bbox=dict(facecolor='red', alpha=0.5));"
   ]
  },
  {
   "cell_type": "code",
   "execution_count": 30,
   "metadata": {
    "collapsed": false
   },
   "outputs": [
    {
     "name": "stdout",
     "output_type": "stream",
     "text": [
      "1033877 Allegretto 0.636132419109\n",
      "1298830 Paganini - Moto Perpetuo Op. 11 - M. Rabin 0.633259654045\n",
      "486458 Pjanoo 0.586102902889\n",
      "486436 The Rock 0.580841720104\n",
      "486382 Something Better 0.576846182346\n",
      "362652 Blackbird - Yesterday 0.576147437096\n",
      "552189 Rain On Your Parade 0.574986577034\n",
      "749318 Aimer Deja 0.57282102108\n",
      "538216 Ain't Too Proud To Beg 0.561250448227\n",
      "486384 World, Hold On (Joachim Garraud & David Guetta Rmx) 0.558664321899\n"
     ]
    }
   ],
   "source": [
    "# more sophisticated\n",
    "my_plays = ['1033877', '452138', '361436', '1033877', '1033877']\n",
    "my_avatar_play = pv.infer_vector(my_plays, steps=12)\n",
    "\n",
    "for s,v in pv.most_similar([my_avatar_play]):\n",
    "    print s, get_song_info(s)['sname'].strip(), v"
   ]
  },
  {
   "cell_type": "markdown",
   "metadata": {},
   "source": [
    "## What are excited in my brain?"
   ]
  },
  {
   "cell_type": "code",
   "execution_count": 31,
   "metadata": {
    "collapsed": false
   },
   "outputs": [
    {
     "name": "stdout",
     "output_type": "stream",
     "text": [
      "Top 10 of music neurals excited:  [99 12 33 20 27 75 17 65 98 32]\n"
     ]
    }
   ],
   "source": [
    "print \"Top 10 of music neurals excited: \", np.argsort(my_avatar.flatten())[-10:]"
   ]
  },
  {
   "cell_type": "markdown",
   "metadata": {},
   "source": [
    "## Give me some similar songs like Paganini?"
   ]
  },
  {
   "cell_type": "code",
   "execution_count": 32,
   "metadata": {
    "collapsed": false
   },
   "outputs": [
    {
     "data": {
      "image/png": "[encoded data removed]",
      "text/plain": [
       "<matplotlib.figure.Figure at 0x1306ca710>"
      ]
     },
     "metadata": {},
     "output_type": "display_data"
    }
   ],
   "source": [
    "songid = '1033877'\n",
    "songavatar = pv[songid].reshape(10,10)\n",
    "# set up the figure\n",
    "fig = plt.figure(figsize=(12, 12))  # figure size in inches\n",
    "fig.subplots_adjust(left=0, right=1, bottom=0, top=1, hspace=0.05, wspace=0.05)\n",
    "\n",
    "# plot the digits: each image is 8x8 pixels\n",
    "for i, sv in enumerate(pv.most_similar_cosmul([songavatar.ravel()], topn=9)):\n",
    "    ax = fig.add_subplot(3, 3, i + 1, xticks=[], yticks=[])\n",
    "    songimg = pv[sv[0]].reshape(10,10)\n",
    "    songname = get_song_info(sv[0])['sname']\n",
    "    ax.imshow(songimg, cmap=plt.cm.rainbow, interpolation='nearest')\n",
    "    \n",
    "    # label the image with the target value\n",
    "    ax.text(0, 0, str(songname[:37] + '...'), bbox=dict(facecolor='red', alpha=0.5))"
   ]
  },
  {
   "cell_type": "markdown",
   "metadata": {
    "collapsed": true
   },
   "source": [
    "## Personalized playlist"
   ]
  },
  {
   "cell_type": "code",
   "execution_count": 33,
   "metadata": {
    "collapsed": false
   },
   "outputs": [
    {
     "name": "stdout",
     "output_type": "stream",
     "text": [
      "350687 Within You Without You 0.693800449371\n",
      "452160 Real Love 0.686083316803\n",
      "838281 Une Histoire Sans Faim 0.670484244823\n",
      "744621 Yes It Is 0.660258412361\n",
      "552071 Help! Rock 0.66024440527\n",
      "552067 Lady Madonna Rock 0.659857213497\n",
      "552064 Eleanor Rigby Rock 0.659039378166\n",
      "763127 Long, Long, Long 0.658786416054\n",
      "1037134 Across The Universe 0.658632040024\n",
      "552065 Eight Days A Week Rock 0.658603310585\n",
      "744620 Yer Blues 0.657952606678\n",
      "1037242 Michelle 0.657822728157\n"
     ]
    }
   ],
   "source": [
    "# my favourites\n",
    "my_songs = ['452138', '361436', '1033877']\n",
    "people_songs = ['1029965']\n",
    "\n",
    "for s,v in pv.most_similar(positive=my_songs, negative=people_songs, topn=12):\n",
    "    print s, get_song_info(s)['sname'].strip(), v"
   ]
  },
  {
   "cell_type": "code",
   "execution_count": 34,
   "metadata": {
    "collapsed": false
   },
   "outputs": [
    {
     "name": "stdout",
     "output_type": "stream",
     "text": [
      "542999 Don't She Look Good 0.75947612524\n",
      "415834 LoveStory 0.693562924862\n",
      "415839 Romance De Amour 0.692811846733\n",
      "415835 More Than I Can Say 0.691567063332\n",
      "415830 Romeo & Juliet 0.690441787243\n",
      "475001 10 I Remember That 0.683727741241\n",
      "572360 Lemon Tree 0.67400342226\n",
      "376361 Lambada 0.672011554241\n",
      "920746 Tìm Lại Bầu Trời 0.66878926754\n",
      "1285007 Đừng Xa Nữa Nhé 0.666720271111\n",
      "1285006 Cảm Giác Cô Đơn 0.664628982544\n",
      "572376 My Heart Will Go On 0.661065936089\n"
     ]
    }
   ],
   "source": [
    "# coffee playlist\n",
    "\n",
    "coffee_playlist = ['377257','415834', '1165280','526065','957569','415830','1267937','1130066']\n",
    "coffee_playlist_vec = pv.infer_vector(coffee_playlist, steps=12)\n",
    "\n",
    "for s,v in pv.most_similar([coffee_playlist_vec], topn=12):\n",
    "    print s, get_song_info(s)['sname'].strip(), v"
   ]
  },
  {
   "cell_type": "markdown",
   "metadata": {},
   "source": [
    "## How similar does this playlist with my music?"
   ]
  },
  {
   "cell_type": "code",
   "execution_count": 35,
   "metadata": {
    "collapsed": true
   },
   "outputs": [],
   "source": [
    "from sklearn.metrics.pairwise import cosine_similarity"
   ]
  },
  {
   "cell_type": "code",
   "execution_count": 36,
   "metadata": {
    "collapsed": false
   },
   "outputs": [
    {
     "name": "stdout",
     "output_type": "stream",
     "text": [
      "Similarity of my music and coffee playlist:  0.266485\n"
     ]
    }
   ],
   "source": [
    "print \"Similarity of my music and coffee playlist: \", cosine_similarity([my_avatar_play], [coffee_playlist_vec])[0][0]"
   ]
  },
  {
   "cell_type": "code",
   "execution_count": null,
   "metadata": {
    "collapsed": true
   },
   "outputs": [],
   "source": []
  }
 ],
 "metadata": {
  "kernelspec": {
   "display_name": "Python 2",
   "language": "python",
   "name": "python2"
  },
  "language_info": {
   "codemirror_mode": {
    "name": "ipython",
    "version": 2
   },
   "file_extension": ".py",
   "mimetype": "text/x-python",
   "name": "python",
   "nbconvert_exporter": "python",
   "pygments_lexer": "ipython2",
   "version": "2.7.10"
  },
  "widgets": {
   "state": {},
   "version": "1.1.1"
  }
 },
 "nbformat": 4,
 "nbformat_minor": 0
}
